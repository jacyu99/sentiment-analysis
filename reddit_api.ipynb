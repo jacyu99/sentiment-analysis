{
 "cells": [
  {
   "cell_type": "code",
   "execution_count": 2,
   "metadata": {},
   "outputs": [
    {
     "name": "stdout",
     "output_type": "stream",
     "text": [
      "Collecting redditwarp\n",
      "  Using cached redditwarp-1.2.0-py3-none-any.whl (494 kB)\n",
      "Installing collected packages: redditwarp\n",
      "Successfully installed redditwarp-1.2.0\n",
      "\n",
      "\u001b[1m[\u001b[0m\u001b[34;49mnotice\u001b[0m\u001b[1;39;49m]\u001b[0m\u001b[39;49m A new release of pip available: \u001b[0m\u001b[31;49m22.2.2\u001b[0m\u001b[39;49m -> \u001b[0m\u001b[32;49m24.0\u001b[0m\n",
      "\u001b[1m[\u001b[0m\u001b[34;49mnotice\u001b[0m\u001b[1;39;49m]\u001b[0m\u001b[39;49m To update, run: \u001b[0m\u001b[32;49mpython3 -m pip install --upgrade pip\u001b[0m\n",
      "Note: you may need to restart the kernel to use updated packages.\n"
     ]
    }
   ],
   "source": [
    "pip install redditwarp"
   ]
  },
  {
   "cell_type": "code",
   "execution_count": 3,
   "metadata": {},
   "outputs": [
    {
     "name": "stdout",
     "output_type": "stream",
     "text": [
      "r/nba | 1cw528l+ ^21182 | 'THE DENVER NUGGETS HAVE BEEN ELIMINATED FROM CHAMPIONSHIP CONTENTION'\n",
      "r/worldnews | 1cw5m6z+ ^38488 | \"'No sign of life' at crash site of helicopter carrying Iran's president, others\n",
      "r/facepalm | 1cwdf1v+ ^19430 | 'History?'\n",
      "r/AskReddit | 1cwdtpw+ ^4050 | 'Who is the most evil person you have ever met in your entire life?'\n",
      "r/pics | 1cw7sbo+ ^41591 | 'Ebrahim Raisi, president of Iran, hours before his death, this morning.'\n"
     ]
    }
   ],
   "source": [
    "import redditwarp.SYNC\n",
    "\n",
    "client = redditwarp.SYNC.Client()\n",
    "\n",
    "it = client.p.front.pull.hot(5)\n",
    "l = list(it)\n",
    "for subm in l:\n",
    "    print(\"r/{0.subreddit.name} | {0.id36}+ ^{0.score} | {0.title!r:.80}\".format(subm))"
   ]
  },
  {
   "cell_type": "code",
   "execution_count": null,
   "metadata": {},
   "outputs": [],
   "source": []
  }
 ],
 "metadata": {
  "kernelspec": {
   "display_name": "venv",
   "language": "python",
   "name": "python3"
  },
  "language_info": {
   "codemirror_mode": {
    "name": "ipython",
    "version": 3
   },
   "file_extension": ".py",
   "mimetype": "text/x-python",
   "name": "python",
   "nbconvert_exporter": "python",
   "pygments_lexer": "ipython3",
   "version": "3.10.7"
  }
 },
 "nbformat": 4,
 "nbformat_minor": 2
}
